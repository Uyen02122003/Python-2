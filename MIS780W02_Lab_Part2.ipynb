{
  "cells": [
    {
      "cell_type": "markdown",
      "metadata": {
        "id": "view-in-github",
        "colab_type": "text"
      },
      "source": [
        "<a href=\"https://colab.research.google.com/github/Uyen02122003/Python-2/blob/main/MIS780W02_Lab_Part2.ipynb\" target=\"_parent\"><img src=\"https://colab.research.google.com/assets/colab-badge.svg\" alt=\"Open In Colab\"/></a>"
      ]
    },
    {
      "cell_type": "code",
      "source": [],
      "metadata": {
        "id": "Lg2AltRbRxlx"
      },
      "execution_count": null,
      "outputs": []
    },
    {
      "cell_type": "markdown",
      "metadata": {
        "id": "UP2Th8B0LLey"
      },
      "source": [
        "## MIS780 - Advanced Artificial Intelligence for Business\n",
        "\n",
        "## Week 2 - Part 2: Text Analytics"
      ]
    },
    {
      "cell_type": "markdown",
      "metadata": {
        "id": "V0vSWcazLLe3"
      },
      "source": [
        "In this session, you will learn Python procedures for text analytics, including text analysis and visualization, text classification and sentiment mining."
      ]
    },
    {
      "cell_type": "markdown",
      "metadata": {
        "id": "Lf62xchy_lbz"
      },
      "source": [
        "## Table of Content\n",
        "   \n",
        "1. [Data Visualization](#cell_DataVisual)\n",
        "    - [Loading Data](#cell_LoadingData)\n",
        "    - [Basic Plot](#cell_Basic)\n",
        "    - [Box plot](#cell_Box)\n",
        "    \n",
        "    \n",
        "2. [Machine Learning Based Sentiment Analysis](#cell_Textclassification)\n",
        "    - [Bag of Words Features](#cell_bow)\n",
        "    - [Model Construction](#cell_Model)\n",
        "\n",
        "\n",
        "3. [Dimensionality Reduction](#cell_DimensionalityReduction)\n",
        "\n",
        "\n",
        "4. [Lexicon-Based Sentiment Analysis](#cell_Sentiment)\n",
        "\n",
        "\n",
        "5. [Aspect-Level Sentiment Analysis](#cell_AspectSentiment)\n",
        "\n",
        "\n",
        "6. [Sentiment Summarization](#cell_Summarization)"
      ]
    },
    {
      "cell_type": "markdown",
      "metadata": {
        "id": "THnW6RPgLLf6"
      },
      "source": [
        "<a id = \"cell_DataVisual\"></a>\n",
        "### 1. Data Visualization\n",
        "\n",
        "<a id = \"cell_LoadingData\"></a>\n",
        "### Loading Data\n",
        "\n",
        "We will use \"Womens Clothing E-Commerce Reviews data set\" (available on [Kaggle](https://www.kaggle.com/nicapotato/womens-ecommerce-clothing-reviews)). The data set can be downloaded from Cloud Deakin. We are going to explore text data as well as visualize numeric and categorical attributes."
      ]
    },
    {
      "cell_type": "code",
      "execution_count": null,
      "metadata": {
        "id": "CyHTCStV_lb0",
        "colab": {
          "base_uri": "https://localhost:8080/",
          "height": 436
        },
        "outputId": "d27b1c9c-18d4-46dc-cd6d-875029e908ee"
      },
      "outputs": [
        {
          "output_type": "error",
          "ename": "FileNotFoundError",
          "evalue": "[Errno 2] No such file or directory: 'ClothingReviews 2.csv'",
          "traceback": [
            "\u001b[0;31m---------------------------------------------------------------------------\u001b[0m",
            "\u001b[0;31mFileNotFoundError\u001b[0m                         Traceback (most recent call last)",
            "\u001b[0;32m/tmp/ipython-input-3-67602901.py\u001b[0m in \u001b[0;36m<cell line: 0>\u001b[0;34m()\u001b[0m\n\u001b[1;32m      1\u001b[0m \u001b[0;32mimport\u001b[0m \u001b[0mpandas\u001b[0m \u001b[0;32mas\u001b[0m \u001b[0mpd\u001b[0m\u001b[0;34m\u001b[0m\u001b[0;34m\u001b[0m\u001b[0m\n\u001b[1;32m      2\u001b[0m \u001b[0;34m\u001b[0m\u001b[0m\n\u001b[0;32m----> 3\u001b[0;31m \u001b[0mdf\u001b[0m \u001b[0;34m=\u001b[0m \u001b[0mpd\u001b[0m\u001b[0;34m.\u001b[0m\u001b[0mread_csv\u001b[0m\u001b[0;34m(\u001b[0m\u001b[0;34m'ClothingReviews 2.csv'\u001b[0m\u001b[0;34m)\u001b[0m\u001b[0;34m\u001b[0m\u001b[0;34m\u001b[0m\u001b[0m\n\u001b[0m\u001b[1;32m      4\u001b[0m \u001b[0mdf\u001b[0m\u001b[0;34m.\u001b[0m\u001b[0mhead\u001b[0m\u001b[0;34m(\u001b[0m\u001b[0;34m)\u001b[0m\u001b[0;34m\u001b[0m\u001b[0;34m\u001b[0m\u001b[0m\n",
            "\u001b[0;32m/usr/local/lib/python3.11/dist-packages/pandas/io/parsers/readers.py\u001b[0m in \u001b[0;36mread_csv\u001b[0;34m(filepath_or_buffer, sep, delimiter, header, names, index_col, usecols, dtype, engine, converters, true_values, false_values, skipinitialspace, skiprows, skipfooter, nrows, na_values, keep_default_na, na_filter, verbose, skip_blank_lines, parse_dates, infer_datetime_format, keep_date_col, date_parser, date_format, dayfirst, cache_dates, iterator, chunksize, compression, thousands, decimal, lineterminator, quotechar, quoting, doublequote, escapechar, comment, encoding, encoding_errors, dialect, on_bad_lines, delim_whitespace, low_memory, memory_map, float_precision, storage_options, dtype_backend)\u001b[0m\n\u001b[1;32m   1024\u001b[0m     \u001b[0mkwds\u001b[0m\u001b[0;34m.\u001b[0m\u001b[0mupdate\u001b[0m\u001b[0;34m(\u001b[0m\u001b[0mkwds_defaults\u001b[0m\u001b[0;34m)\u001b[0m\u001b[0;34m\u001b[0m\u001b[0;34m\u001b[0m\u001b[0m\n\u001b[1;32m   1025\u001b[0m \u001b[0;34m\u001b[0m\u001b[0m\n\u001b[0;32m-> 1026\u001b[0;31m     \u001b[0;32mreturn\u001b[0m \u001b[0m_read\u001b[0m\u001b[0;34m(\u001b[0m\u001b[0mfilepath_or_buffer\u001b[0m\u001b[0;34m,\u001b[0m \u001b[0mkwds\u001b[0m\u001b[0;34m)\u001b[0m\u001b[0;34m\u001b[0m\u001b[0;34m\u001b[0m\u001b[0m\n\u001b[0m\u001b[1;32m   1027\u001b[0m \u001b[0;34m\u001b[0m\u001b[0m\n\u001b[1;32m   1028\u001b[0m \u001b[0;34m\u001b[0m\u001b[0m\n",
            "\u001b[0;32m/usr/local/lib/python3.11/dist-packages/pandas/io/parsers/readers.py\u001b[0m in \u001b[0;36m_read\u001b[0;34m(filepath_or_buffer, kwds)\u001b[0m\n\u001b[1;32m    618\u001b[0m \u001b[0;34m\u001b[0m\u001b[0m\n\u001b[1;32m    619\u001b[0m     \u001b[0;31m# Create the parser.\u001b[0m\u001b[0;34m\u001b[0m\u001b[0;34m\u001b[0m\u001b[0m\n\u001b[0;32m--> 620\u001b[0;31m     \u001b[0mparser\u001b[0m \u001b[0;34m=\u001b[0m \u001b[0mTextFileReader\u001b[0m\u001b[0;34m(\u001b[0m\u001b[0mfilepath_or_buffer\u001b[0m\u001b[0;34m,\u001b[0m \u001b[0;34m**\u001b[0m\u001b[0mkwds\u001b[0m\u001b[0;34m)\u001b[0m\u001b[0;34m\u001b[0m\u001b[0;34m\u001b[0m\u001b[0m\n\u001b[0m\u001b[1;32m    621\u001b[0m \u001b[0;34m\u001b[0m\u001b[0m\n\u001b[1;32m    622\u001b[0m     \u001b[0;32mif\u001b[0m \u001b[0mchunksize\u001b[0m \u001b[0;32mor\u001b[0m \u001b[0miterator\u001b[0m\u001b[0;34m:\u001b[0m\u001b[0;34m\u001b[0m\u001b[0;34m\u001b[0m\u001b[0m\n",
            "\u001b[0;32m/usr/local/lib/python3.11/dist-packages/pandas/io/parsers/readers.py\u001b[0m in \u001b[0;36m__init__\u001b[0;34m(self, f, engine, **kwds)\u001b[0m\n\u001b[1;32m   1618\u001b[0m \u001b[0;34m\u001b[0m\u001b[0m\n\u001b[1;32m   1619\u001b[0m         \u001b[0mself\u001b[0m\u001b[0;34m.\u001b[0m\u001b[0mhandles\u001b[0m\u001b[0;34m:\u001b[0m \u001b[0mIOHandles\u001b[0m \u001b[0;34m|\u001b[0m \u001b[0;32mNone\u001b[0m \u001b[0;34m=\u001b[0m \u001b[0;32mNone\u001b[0m\u001b[0;34m\u001b[0m\u001b[0;34m\u001b[0m\u001b[0m\n\u001b[0;32m-> 1620\u001b[0;31m         \u001b[0mself\u001b[0m\u001b[0;34m.\u001b[0m\u001b[0m_engine\u001b[0m \u001b[0;34m=\u001b[0m \u001b[0mself\u001b[0m\u001b[0;34m.\u001b[0m\u001b[0m_make_engine\u001b[0m\u001b[0;34m(\u001b[0m\u001b[0mf\u001b[0m\u001b[0;34m,\u001b[0m \u001b[0mself\u001b[0m\u001b[0;34m.\u001b[0m\u001b[0mengine\u001b[0m\u001b[0;34m)\u001b[0m\u001b[0;34m\u001b[0m\u001b[0;34m\u001b[0m\u001b[0m\n\u001b[0m\u001b[1;32m   1621\u001b[0m \u001b[0;34m\u001b[0m\u001b[0m\n\u001b[1;32m   1622\u001b[0m     \u001b[0;32mdef\u001b[0m \u001b[0mclose\u001b[0m\u001b[0;34m(\u001b[0m\u001b[0mself\u001b[0m\u001b[0;34m)\u001b[0m \u001b[0;34m->\u001b[0m \u001b[0;32mNone\u001b[0m\u001b[0;34m:\u001b[0m\u001b[0;34m\u001b[0m\u001b[0;34m\u001b[0m\u001b[0m\n",
            "\u001b[0;32m/usr/local/lib/python3.11/dist-packages/pandas/io/parsers/readers.py\u001b[0m in \u001b[0;36m_make_engine\u001b[0;34m(self, f, engine)\u001b[0m\n\u001b[1;32m   1878\u001b[0m                 \u001b[0;32mif\u001b[0m \u001b[0;34m\"b\"\u001b[0m \u001b[0;32mnot\u001b[0m \u001b[0;32min\u001b[0m \u001b[0mmode\u001b[0m\u001b[0;34m:\u001b[0m\u001b[0;34m\u001b[0m\u001b[0;34m\u001b[0m\u001b[0m\n\u001b[1;32m   1879\u001b[0m                     \u001b[0mmode\u001b[0m \u001b[0;34m+=\u001b[0m \u001b[0;34m\"b\"\u001b[0m\u001b[0;34m\u001b[0m\u001b[0;34m\u001b[0m\u001b[0m\n\u001b[0;32m-> 1880\u001b[0;31m             self.handles = get_handle(\n\u001b[0m\u001b[1;32m   1881\u001b[0m                 \u001b[0mf\u001b[0m\u001b[0;34m,\u001b[0m\u001b[0;34m\u001b[0m\u001b[0;34m\u001b[0m\u001b[0m\n\u001b[1;32m   1882\u001b[0m                 \u001b[0mmode\u001b[0m\u001b[0;34m,\u001b[0m\u001b[0;34m\u001b[0m\u001b[0;34m\u001b[0m\u001b[0m\n",
            "\u001b[0;32m/usr/local/lib/python3.11/dist-packages/pandas/io/common.py\u001b[0m in \u001b[0;36mget_handle\u001b[0;34m(path_or_buf, mode, encoding, compression, memory_map, is_text, errors, storage_options)\u001b[0m\n\u001b[1;32m    871\u001b[0m         \u001b[0;32mif\u001b[0m \u001b[0mioargs\u001b[0m\u001b[0;34m.\u001b[0m\u001b[0mencoding\u001b[0m \u001b[0;32mand\u001b[0m \u001b[0;34m\"b\"\u001b[0m \u001b[0;32mnot\u001b[0m \u001b[0;32min\u001b[0m \u001b[0mioargs\u001b[0m\u001b[0;34m.\u001b[0m\u001b[0mmode\u001b[0m\u001b[0;34m:\u001b[0m\u001b[0;34m\u001b[0m\u001b[0;34m\u001b[0m\u001b[0m\n\u001b[1;32m    872\u001b[0m             \u001b[0;31m# Encoding\u001b[0m\u001b[0;34m\u001b[0m\u001b[0;34m\u001b[0m\u001b[0m\n\u001b[0;32m--> 873\u001b[0;31m             handle = open(\n\u001b[0m\u001b[1;32m    874\u001b[0m                 \u001b[0mhandle\u001b[0m\u001b[0;34m,\u001b[0m\u001b[0;34m\u001b[0m\u001b[0;34m\u001b[0m\u001b[0m\n\u001b[1;32m    875\u001b[0m                 \u001b[0mioargs\u001b[0m\u001b[0;34m.\u001b[0m\u001b[0mmode\u001b[0m\u001b[0;34m,\u001b[0m\u001b[0;34m\u001b[0m\u001b[0;34m\u001b[0m\u001b[0m\n",
            "\u001b[0;31mFileNotFoundError\u001b[0m: [Errno 2] No such file or directory: 'ClothingReviews 2.csv'"
          ]
        }
      ],
      "source": [
        "import pandas as pd\n",
        "\n",
        "df = pd.read_csv('ClothingReviews 2.csv')\n",
        "df.head()"
      ]
    },
    {
      "cell_type": "code",
      "source": [
        "from google.colab import drive\n",
        "drive.mount('/content/drive')"
      ],
      "metadata": {
        "colab": {
          "base_uri": "https://localhost:8080/"
        },
        "id": "UD0euS1PSq3p",
        "outputId": "be7b0b22-318f-4e60-aef0-ea5af601ba4f"
      },
      "execution_count": null,
      "outputs": [
        {
          "output_type": "stream",
          "name": "stdout",
          "text": [
            "Mounted at /content/drive\n"
          ]
        }
      ]
    },
    {
      "cell_type": "markdown",
      "metadata": {
        "id": "ZPKAMR6WLLgI"
      },
      "source": [
        "After a brief inspection of the data, we found there are a series of data pre-processing we have to conduct.\n",
        "   - Remove the “Title” feature.\n",
        "   - Remove the rows where “Review Text” were missing.\n",
        "   - Clean “Review Text” column.\n",
        "   - Create new feature for the length of the review.\n",
        "   - Create new feature for the word count of the review."
      ]
    },
    {
      "cell_type": "code",
      "execution_count": null,
      "metadata": {
        "id": "5ZsarfIpLLgO",
        "colab": {
          "base_uri": "https://localhost:8080/",
          "height": 625
        },
        "outputId": "2ef555b6-14cb-42f1-c3ae-ba52ce1ae458"
      },
      "outputs": [
        {
          "output_type": "execute_result",
          "data": {
            "text/plain": [
              "   Clothing ID  Age                                        Review Text  \\\n",
              "0          767   33  Absolutely wonderful - silky and sexy and comf...   \n",
              "1         1080   34  Love this dress!  it's sooo pretty.  i happene...   \n",
              "2         1077   60  I had such high hopes for this dress and reall...   \n",
              "3         1049   50  I love, love, love this jumpsuit. it's fun, fl...   \n",
              "4          847   47  This shirt is very flattering to all due to th...   \n",
              "\n",
              "   Rating  Recommended IND  Positive Feedback Count   Division Name  \\\n",
              "0       4                1                        0       Initmates   \n",
              "1       5                1                        4         General   \n",
              "2       3                0                        0         General   \n",
              "3       5                1                        0  General Petite   \n",
              "4       5                1                        6         General   \n",
              "\n",
              "  Department Name Class Name  review_len  word_count  \n",
              "0        Intimate  Intimates          53           8  \n",
              "1         Dresses    Dresses         303          62  \n",
              "2         Dresses    Dresses         500          98  \n",
              "3         Bottoms      Pants         124          22  \n",
              "4            Tops    Blouses         192          36  "
            ],
            "text/html": [
              "\n",
              "  <div id=\"df-1d1f3966-4daa-4d2c-ba9d-084a533a1ee3\" class=\"colab-df-container\">\n",
              "    <div>\n",
              "<style scoped>\n",
              "    .dataframe tbody tr th:only-of-type {\n",
              "        vertical-align: middle;\n",
              "    }\n",
              "\n",
              "    .dataframe tbody tr th {\n",
              "        vertical-align: top;\n",
              "    }\n",
              "\n",
              "    .dataframe thead th {\n",
              "        text-align: right;\n",
              "    }\n",
              "</style>\n",
              "<table border=\"1\" class=\"dataframe\">\n",
              "  <thead>\n",
              "    <tr style=\"text-align: right;\">\n",
              "      <th></th>\n",
              "      <th>Clothing ID</th>\n",
              "      <th>Age</th>\n",
              "      <th>Review Text</th>\n",
              "      <th>Rating</th>\n",
              "      <th>Recommended IND</th>\n",
              "      <th>Positive Feedback Count</th>\n",
              "      <th>Division Name</th>\n",
              "      <th>Department Name</th>\n",
              "      <th>Class Name</th>\n",
              "      <th>review_len</th>\n",
              "      <th>word_count</th>\n",
              "    </tr>\n",
              "  </thead>\n",
              "  <tbody>\n",
              "    <tr>\n",
              "      <th>0</th>\n",
              "      <td>767</td>\n",
              "      <td>33</td>\n",
              "      <td>Absolutely wonderful - silky and sexy and comf...</td>\n",
              "      <td>4</td>\n",
              "      <td>1</td>\n",
              "      <td>0</td>\n",
              "      <td>Initmates</td>\n",
              "      <td>Intimate</td>\n",
              "      <td>Intimates</td>\n",
              "      <td>53</td>\n",
              "      <td>8</td>\n",
              "    </tr>\n",
              "    <tr>\n",
              "      <th>1</th>\n",
              "      <td>1080</td>\n",
              "      <td>34</td>\n",
              "      <td>Love this dress!  it's sooo pretty.  i happene...</td>\n",
              "      <td>5</td>\n",
              "      <td>1</td>\n",
              "      <td>4</td>\n",
              "      <td>General</td>\n",
              "      <td>Dresses</td>\n",
              "      <td>Dresses</td>\n",
              "      <td>303</td>\n",
              "      <td>62</td>\n",
              "    </tr>\n",
              "    <tr>\n",
              "      <th>2</th>\n",
              "      <td>1077</td>\n",
              "      <td>60</td>\n",
              "      <td>I had such high hopes for this dress and reall...</td>\n",
              "      <td>3</td>\n",
              "      <td>0</td>\n",
              "      <td>0</td>\n",
              "      <td>General</td>\n",
              "      <td>Dresses</td>\n",
              "      <td>Dresses</td>\n",
              "      <td>500</td>\n",
              "      <td>98</td>\n",
              "    </tr>\n",
              "    <tr>\n",
              "      <th>3</th>\n",
              "      <td>1049</td>\n",
              "      <td>50</td>\n",
              "      <td>I love, love, love this jumpsuit. it's fun, fl...</td>\n",
              "      <td>5</td>\n",
              "      <td>1</td>\n",
              "      <td>0</td>\n",
              "      <td>General Petite</td>\n",
              "      <td>Bottoms</td>\n",
              "      <td>Pants</td>\n",
              "      <td>124</td>\n",
              "      <td>22</td>\n",
              "    </tr>\n",
              "    <tr>\n",
              "      <th>4</th>\n",
              "      <td>847</td>\n",
              "      <td>47</td>\n",
              "      <td>This shirt is very flattering to all due to th...</td>\n",
              "      <td>5</td>\n",
              "      <td>1</td>\n",
              "      <td>6</td>\n",
              "      <td>General</td>\n",
              "      <td>Tops</td>\n",
              "      <td>Blouses</td>\n",
              "      <td>192</td>\n",
              "      <td>36</td>\n",
              "    </tr>\n",
              "  </tbody>\n",
              "</table>\n",
              "</div>\n",
              "    <div class=\"colab-df-buttons\">\n",
              "\n",
              "  <div class=\"colab-df-container\">\n",
              "    <button class=\"colab-df-convert\" onclick=\"convertToInteractive('df-1d1f3966-4daa-4d2c-ba9d-084a533a1ee3')\"\n",
              "            title=\"Convert this dataframe to an interactive table.\"\n",
              "            style=\"display:none;\">\n",
              "\n",
              "  <svg xmlns=\"http://www.w3.org/2000/svg\" height=\"24px\" viewBox=\"0 -960 960 960\">\n",
              "    <path d=\"M120-120v-720h720v720H120Zm60-500h600v-160H180v160Zm220 220h160v-160H400v160Zm0 220h160v-160H400v160ZM180-400h160v-160H180v160Zm440 0h160v-160H620v160ZM180-180h160v-160H180v160Zm440 0h160v-160H620v160Z\"/>\n",
              "  </svg>\n",
              "    </button>\n",
              "\n",
              "  <style>\n",
              "    .colab-df-container {\n",
              "      display:flex;\n",
              "      gap: 12px;\n",
              "    }\n",
              "\n",
              "    .colab-df-convert {\n",
              "      background-color: #E8F0FE;\n",
              "      border: none;\n",
              "      border-radius: 50%;\n",
              "      cursor: pointer;\n",
              "      display: none;\n",
              "      fill: #1967D2;\n",
              "      height: 32px;\n",
              "      padding: 0 0 0 0;\n",
              "      width: 32px;\n",
              "    }\n",
              "\n",
              "    .colab-df-convert:hover {\n",
              "      background-color: #E2EBFA;\n",
              "      box-shadow: 0px 1px 2px rgba(60, 64, 67, 0.3), 0px 1px 3px 1px rgba(60, 64, 67, 0.15);\n",
              "      fill: #174EA6;\n",
              "    }\n",
              "\n",
              "    .colab-df-buttons div {\n",
              "      margin-bottom: 4px;\n",
              "    }\n",
              "\n",
              "    [theme=dark] .colab-df-convert {\n",
              "      background-color: #3B4455;\n",
              "      fill: #D2E3FC;\n",
              "    }\n",
              "\n",
              "    [theme=dark] .colab-df-convert:hover {\n",
              "      background-color: #434B5C;\n",
              "      box-shadow: 0px 1px 3px 1px rgba(0, 0, 0, 0.15);\n",
              "      filter: drop-shadow(0px 1px 2px rgba(0, 0, 0, 0.3));\n",
              "      fill: #FFFFFF;\n",
              "    }\n",
              "  </style>\n",
              "\n",
              "    <script>\n",
              "      const buttonEl =\n",
              "        document.querySelector('#df-1d1f3966-4daa-4d2c-ba9d-084a533a1ee3 button.colab-df-convert');\n",
              "      buttonEl.style.display =\n",
              "        google.colab.kernel.accessAllowed ? 'block' : 'none';\n",
              "\n",
              "      async function convertToInteractive(key) {\n",
              "        const element = document.querySelector('#df-1d1f3966-4daa-4d2c-ba9d-084a533a1ee3');\n",
              "        const dataTable =\n",
              "          await google.colab.kernel.invokeFunction('convertToInteractive',\n",
              "                                                    [key], {});\n",
              "        if (!dataTable) return;\n",
              "\n",
              "        const docLinkHtml = 'Like what you see? Visit the ' +\n",
              "          '<a target=\"_blank\" href=https://colab.research.google.com/notebooks/data_table.ipynb>data table notebook</a>'\n",
              "          + ' to learn more about interactive tables.';\n",
              "        element.innerHTML = '';\n",
              "        dataTable['output_type'] = 'display_data';\n",
              "        await google.colab.output.renderOutput(dataTable, element);\n",
              "        const docLink = document.createElement('div');\n",
              "        docLink.innerHTML = docLinkHtml;\n",
              "        element.appendChild(docLink);\n",
              "      }\n",
              "    </script>\n",
              "  </div>\n",
              "\n",
              "\n",
              "    <div id=\"df-61b7629e-76a5-48d5-ac7a-fea2af5ea98e\">\n",
              "      <button class=\"colab-df-quickchart\" onclick=\"quickchart('df-61b7629e-76a5-48d5-ac7a-fea2af5ea98e')\"\n",
              "                title=\"Suggest charts\"\n",
              "                style=\"display:none;\">\n",
              "\n",
              "<svg xmlns=\"http://www.w3.org/2000/svg\" height=\"24px\"viewBox=\"0 0 24 24\"\n",
              "     width=\"24px\">\n",
              "    <g>\n",
              "        <path d=\"M19 3H5c-1.1 0-2 .9-2 2v14c0 1.1.9 2 2 2h14c1.1 0 2-.9 2-2V5c0-1.1-.9-2-2-2zM9 17H7v-7h2v7zm4 0h-2V7h2v10zm4 0h-2v-4h2v4z\"/>\n",
              "    </g>\n",
              "</svg>\n",
              "      </button>\n",
              "\n",
              "<style>\n",
              "  .colab-df-quickchart {\n",
              "      --bg-color: #E8F0FE;\n",
              "      --fill-color: #1967D2;\n",
              "      --hover-bg-color: #E2EBFA;\n",
              "      --hover-fill-color: #174EA6;\n",
              "      --disabled-fill-color: #AAA;\n",
              "      --disabled-bg-color: #DDD;\n",
              "  }\n",
              "\n",
              "  [theme=dark] .colab-df-quickchart {\n",
              "      --bg-color: #3B4455;\n",
              "      --fill-color: #D2E3FC;\n",
              "      --hover-bg-color: #434B5C;\n",
              "      --hover-fill-color: #FFFFFF;\n",
              "      --disabled-bg-color: #3B4455;\n",
              "      --disabled-fill-color: #666;\n",
              "  }\n",
              "\n",
              "  .colab-df-quickchart {\n",
              "    background-color: var(--bg-color);\n",
              "    border: none;\n",
              "    border-radius: 50%;\n",
              "    cursor: pointer;\n",
              "    display: none;\n",
              "    fill: var(--fill-color);\n",
              "    height: 32px;\n",
              "    padding: 0;\n",
              "    width: 32px;\n",
              "  }\n",
              "\n",
              "  .colab-df-quickchart:hover {\n",
              "    background-color: var(--hover-bg-color);\n",
              "    box-shadow: 0 1px 2px rgba(60, 64, 67, 0.3), 0 1px 3px 1px rgba(60, 64, 67, 0.15);\n",
              "    fill: var(--button-hover-fill-color);\n",
              "  }\n",
              "\n",
              "  .colab-df-quickchart-complete:disabled,\n",
              "  .colab-df-quickchart-complete:disabled:hover {\n",
              "    background-color: var(--disabled-bg-color);\n",
              "    fill: var(--disabled-fill-color);\n",
              "    box-shadow: none;\n",
              "  }\n",
              "\n",
              "  .colab-df-spinner {\n",
              "    border: 2px solid var(--fill-color);\n",
              "    border-color: transparent;\n",
              "    border-bottom-color: var(--fill-color);\n",
              "    animation:\n",
              "      spin 1s steps(1) infinite;\n",
              "  }\n",
              "\n",
              "  @keyframes spin {\n",
              "    0% {\n",
              "      border-color: transparent;\n",
              "      border-bottom-color: var(--fill-color);\n",
              "      border-left-color: var(--fill-color);\n",
              "    }\n",
              "    20% {\n",
              "      border-color: transparent;\n",
              "      border-left-color: var(--fill-color);\n",
              "      border-top-color: var(--fill-color);\n",
              "    }\n",
              "    30% {\n",
              "      border-color: transparent;\n",
              "      border-left-color: var(--fill-color);\n",
              "      border-top-color: var(--fill-color);\n",
              "      border-right-color: var(--fill-color);\n",
              "    }\n",
              "    40% {\n",
              "      border-color: transparent;\n",
              "      border-right-color: var(--fill-color);\n",
              "      border-top-color: var(--fill-color);\n",
              "    }\n",
              "    60% {\n",
              "      border-color: transparent;\n",
              "      border-right-color: var(--fill-color);\n",
              "    }\n",
              "    80% {\n",
              "      border-color: transparent;\n",
              "      border-right-color: var(--fill-color);\n",
              "      border-bottom-color: var(--fill-color);\n",
              "    }\n",
              "    90% {\n",
              "      border-color: transparent;\n",
              "      border-bottom-color: var(--fill-color);\n",
              "    }\n",
              "  }\n",
              "</style>\n",
              "\n",
              "      <script>\n",
              "        async function quickchart(key) {\n",
              "          const quickchartButtonEl =\n",
              "            document.querySelector('#' + key + ' button');\n",
              "          quickchartButtonEl.disabled = true;  // To prevent multiple clicks.\n",
              "          quickchartButtonEl.classList.add('colab-df-spinner');\n",
              "          try {\n",
              "            const charts = await google.colab.kernel.invokeFunction(\n",
              "                'suggestCharts', [key], {});\n",
              "          } catch (error) {\n",
              "            console.error('Error during call to suggestCharts:', error);\n",
              "          }\n",
              "          quickchartButtonEl.classList.remove('colab-df-spinner');\n",
              "          quickchartButtonEl.classList.add('colab-df-quickchart-complete');\n",
              "        }\n",
              "        (() => {\n",
              "          let quickchartButtonEl =\n",
              "            document.querySelector('#df-61b7629e-76a5-48d5-ac7a-fea2af5ea98e button');\n",
              "          quickchartButtonEl.style.display =\n",
              "            google.colab.kernel.accessAllowed ? 'block' : 'none';\n",
              "        })();\n",
              "      </script>\n",
              "    </div>\n",
              "\n",
              "    </div>\n",
              "  </div>\n"
            ],
            "application/vnd.google.colaboratory.intrinsic+json": {
              "type": "dataframe",
              "variable_name": "df",
              "summary": "{\n  \"name\": \"df\",\n  \"rows\": 22641,\n  \"fields\": [\n    {\n      \"column\": \"Clothing ID\",\n      \"properties\": {\n        \"dtype\": \"number\",\n        \"std\": 202,\n        \"min\": 1,\n        \"max\": 1205,\n        \"num_unique_values\": 1179,\n        \"samples\": [\n          769,\n          1066,\n          303\n        ],\n        \"semantic_type\": \"\",\n        \"description\": \"\"\n      }\n    },\n    {\n      \"column\": \"Age\",\n      \"properties\": {\n        \"dtype\": \"number\",\n        \"std\": 12,\n        \"min\": 18,\n        \"max\": 99,\n        \"num_unique_values\": 77,\n        \"samples\": [\n          47,\n          62,\n          41\n        ],\n        \"semantic_type\": \"\",\n        \"description\": \"\"\n      }\n    },\n    {\n      \"column\": \"Review Text\",\n      \"properties\": {\n        \"dtype\": \"string\",\n        \"num_unique_values\": 22634,\n        \"samples\": [\n          \"This top is really pretty and nice quality. runs big - i went down a size, and its perfect. coloring is more subtle in person than in the photo.\",\n          \"I was so excited to splurge on a mara hoffman suit and was sorely disappointed when i received this suit in the mail. i'm petite and fairly curvy, so i knew it would likely be a little long in the torso but the whole suit was so oddly shaped, i couldn't imagine anyone it would fit. the square shape in between the halter pieces is awkward, and the pieces that are supposed to hold your chest are super wide and loose.\",\n          \"Got so many complements! really comfy but runs big! i'm usually a large and i wish i had gotten the small.\"\n        ],\n        \"semantic_type\": \"\",\n        \"description\": \"\"\n      }\n    },\n    {\n      \"column\": \"Rating\",\n      \"properties\": {\n        \"dtype\": \"number\",\n        \"std\": 1,\n        \"min\": 1,\n        \"max\": 5,\n        \"num_unique_values\": 5,\n        \"samples\": [\n          5,\n          1,\n          3\n        ],\n        \"semantic_type\": \"\",\n        \"description\": \"\"\n      }\n    },\n    {\n      \"column\": \"Recommended IND\",\n      \"properties\": {\n        \"dtype\": \"number\",\n        \"std\": 0,\n        \"min\": 0,\n        \"max\": 1,\n        \"num_unique_values\": 2,\n        \"samples\": [\n          0,\n          1\n        ],\n        \"semantic_type\": \"\",\n        \"description\": \"\"\n      }\n    },\n    {\n      \"column\": \"Positive Feedback Count\",\n      \"properties\": {\n        \"dtype\": \"number\",\n        \"std\": 5,\n        \"min\": 0,\n        \"max\": 122,\n        \"num_unique_values\": 82,\n        \"samples\": [\n          21,\n          0\n        ],\n        \"semantic_type\": \"\",\n        \"description\": \"\"\n      }\n    },\n    {\n      \"column\": \"Division Name\",\n      \"properties\": {\n        \"dtype\": \"category\",\n        \"num_unique_values\": 3,\n        \"samples\": [\n          \"Initmates\",\n          \"General\"\n        ],\n        \"semantic_type\": \"\",\n        \"description\": \"\"\n      }\n    },\n    {\n      \"column\": \"Department Name\",\n      \"properties\": {\n        \"dtype\": \"category\",\n        \"num_unique_values\": 6,\n        \"samples\": [\n          \"Intimate\",\n          \"Dresses\"\n        ],\n        \"semantic_type\": \"\",\n        \"description\": \"\"\n      }\n    },\n    {\n      \"column\": \"Class Name\",\n      \"properties\": {\n        \"dtype\": \"category\",\n        \"num_unique_values\": 20,\n        \"samples\": [\n          \"Intimates\",\n          \"Layering\"\n        ],\n        \"semantic_type\": \"\",\n        \"description\": \"\"\n      }\n    },\n    {\n      \"column\": \"review_len\",\n      \"properties\": {\n        \"dtype\": \"number\",\n        \"std\": 143,\n        \"min\": 9,\n        \"max\": 508,\n        \"num_unique_values\": 497,\n        \"samples\": [\n          9,\n          150\n        ],\n        \"semantic_type\": \"\",\n        \"description\": \"\"\n      }\n    },\n    {\n      \"column\": \"word_count\",\n      \"properties\": {\n        \"dtype\": \"number\",\n        \"std\": 28,\n        \"min\": 2,\n        \"max\": 115,\n        \"num_unique_values\": 114,\n        \"samples\": [\n          46,\n          36\n        ],\n        \"semantic_type\": \"\",\n        \"description\": \"\"\n      }\n    }\n  ]\n}"
            }
          },
          "metadata": {},
          "execution_count": 5
        }
      ],
      "source": [
        "df.drop('Unnamed: 0', axis=1, inplace=True)\n",
        "df.drop('Title', axis=1, inplace=True) # Remove the “Title” feature\n",
        "df = df[~df['Review Text'].isnull()] #Remove the rows where “Review Text” were missing. > / . - +\n",
        "\n",
        "#Defind a function to clean text\n",
        "def preprocess(ReviewText):\n",
        "    ReviewText = ReviewText.str.replace(\"(<br/>)\", \"\")\n",
        "    ReviewText = ReviewText.str.replace('(<a).*(>).*(</a>)', '')\n",
        "    ReviewText = ReviewText.str.replace('(&amp)', '')\n",
        "    ReviewText = ReviewText.str.replace('(&gt)', '')\n",
        "    ReviewText = ReviewText.str.replace('(&lt)', '')\n",
        "    ReviewText = ReviewText.str.replace('(\\xa0)', ' ')\n",
        "    return ReviewText\n",
        "\n",
        "df['Review Text'] = preprocess(df['Review Text']) #Clean text\n",
        "\n",
        "#Create new feature for the length of the review.\n",
        "df['review_len'] = df['Review Text'].astype(str).apply(len)\n",
        "#Create new feature for the word count of the review.\n",
        "df['word_count'] = df['Review Text'].apply(lambda x: len(str(x).split()))\n",
        "df.head()"
      ]
    },
    {
      "cell_type": "code",
      "execution_count": null,
      "metadata": {
        "id": "G8HcdUb-_lb6",
        "colab": {
          "base_uri": "https://localhost:8080/",
          "height": 355
        },
        "outputId": "150c60f7-e391-4093-a4f1-15414ff192ea"
      },
      "outputs": [
        {
          "output_type": "execute_result",
          "data": {
            "text/plain": [
              "        Clothing ID           Age        Rating  Recommended IND  \\\n",
              "count  22641.000000  22641.000000  22641.000000     22641.000000   \n",
              "mean     919.332362     43.280376      4.183561         0.818868   \n",
              "std      202.266874     12.326980      1.115762         0.385136   \n",
              "min        1.000000     18.000000      1.000000         0.000000   \n",
              "25%      861.000000     34.000000      4.000000         1.000000   \n",
              "50%      936.000000     41.000000      5.000000         1.000000   \n",
              "75%     1078.000000     52.000000      5.000000         1.000000   \n",
              "max     1205.000000     99.000000      5.000000         1.000000   \n",
              "\n",
              "       Positive Feedback Count    review_len    word_count  \n",
              "count             22641.000000  22641.000000  22641.000000  \n",
              "mean                  2.630582    308.687867     60.196679  \n",
              "std                   5.786164    143.940065     28.534612  \n",
              "min                   0.000000      9.000000      2.000000  \n",
              "25%                   0.000000    186.000000     36.000000  \n",
              "50%                   1.000000    301.000000     59.000000  \n",
              "75%                   3.000000    459.000000     88.000000  \n",
              "max                 122.000000    508.000000    115.000000  "
            ],
            "text/html": [
              "\n",
              "  <div id=\"df-c3e448eb-f780-4d5d-83d5-ce8dfaf11142\" class=\"colab-df-container\">\n",
              "    <div>\n",
              "<style scoped>\n",
              "    .dataframe tbody tr th:only-of-type {\n",
              "        vertical-align: middle;\n",
              "    }\n",
              "\n",
              "    .dataframe tbody tr th {\n",
              "        vertical-align: top;\n",
              "    }\n",
              "\n",
              "    .dataframe thead th {\n",
              "        text-align: right;\n",
              "    }\n",
              "</style>\n",
              "<table border=\"1\" class=\"dataframe\">\n",
              "  <thead>\n",
              "    <tr style=\"text-align: right;\">\n",
              "      <th></th>\n",
              "      <th>Clothing ID</th>\n",
              "      <th>Age</th>\n",
              "      <th>Rating</th>\n",
              "      <th>Recommended IND</th>\n",
              "      <th>Positive Feedback Count</th>\n",
              "      <th>review_len</th>\n",
              "      <th>word_count</th>\n",
              "    </tr>\n",
              "  </thead>\n",
              "  <tbody>\n",
              "    <tr>\n",
              "      <th>count</th>\n",
              "      <td>22641.000000</td>\n",
              "      <td>22641.000000</td>\n",
              "      <td>22641.000000</td>\n",
              "      <td>22641.000000</td>\n",
              "      <td>22641.000000</td>\n",
              "      <td>22641.000000</td>\n",
              "      <td>22641.000000</td>\n",
              "    </tr>\n",
              "    <tr>\n",
              "      <th>mean</th>\n",
              "      <td>919.332362</td>\n",
              "      <td>43.280376</td>\n",
              "      <td>4.183561</td>\n",
              "      <td>0.818868</td>\n",
              "      <td>2.630582</td>\n",
              "      <td>308.687867</td>\n",
              "      <td>60.196679</td>\n",
              "    </tr>\n",
              "    <tr>\n",
              "      <th>std</th>\n",
              "      <td>202.266874</td>\n",
              "      <td>12.326980</td>\n",
              "      <td>1.115762</td>\n",
              "      <td>0.385136</td>\n",
              "      <td>5.786164</td>\n",
              "      <td>143.940065</td>\n",
              "      <td>28.534612</td>\n",
              "    </tr>\n",
              "    <tr>\n",
              "      <th>min</th>\n",
              "      <td>1.000000</td>\n",
              "      <td>18.000000</td>\n",
              "      <td>1.000000</td>\n",
              "      <td>0.000000</td>\n",
              "      <td>0.000000</td>\n",
              "      <td>9.000000</td>\n",
              "      <td>2.000000</td>\n",
              "    </tr>\n",
              "    <tr>\n",
              "      <th>25%</th>\n",
              "      <td>861.000000</td>\n",
              "      <td>34.000000</td>\n",
              "      <td>4.000000</td>\n",
              "      <td>1.000000</td>\n",
              "      <td>0.000000</td>\n",
              "      <td>186.000000</td>\n",
              "      <td>36.000000</td>\n",
              "    </tr>\n",
              "    <tr>\n",
              "      <th>50%</th>\n",
              "      <td>936.000000</td>\n",
              "      <td>41.000000</td>\n",
              "      <td>5.000000</td>\n",
              "      <td>1.000000</td>\n",
              "      <td>1.000000</td>\n",
              "      <td>301.000000</td>\n",
              "      <td>59.000000</td>\n",
              "    </tr>\n",
              "    <tr>\n",
              "      <th>75%</th>\n",
              "      <td>1078.000000</td>\n",
              "      <td>52.000000</td>\n",
              "      <td>5.000000</td>\n",
              "      <td>1.000000</td>\n",
              "      <td>3.000000</td>\n",
              "      <td>459.000000</td>\n",
              "      <td>88.000000</td>\n",
              "    </tr>\n",
              "    <tr>\n",
              "      <th>max</th>\n",
              "      <td>1205.000000</td>\n",
              "      <td>99.000000</td>\n",
              "      <td>5.000000</td>\n",
              "      <td>1.000000</td>\n",
              "      <td>122.000000</td>\n",
              "      <td>508.000000</td>\n",
              "      <td>115.000000</td>\n",
              "    </tr>\n",
              "  </tbody>\n",
              "</table>\n",
              "</div>\n",
              "    <div class=\"colab-df-buttons\">\n",
              "\n",
              "  <div class=\"colab-df-container\">\n",
              "    <button class=\"colab-df-convert\" onclick=\"convertToInteractive('df-c3e448eb-f780-4d5d-83d5-ce8dfaf11142')\"\n",
              "            title=\"Convert this dataframe to an interactive table.\"\n",
              "            style=\"display:none;\">\n",
              "\n",
              "  <svg xmlns=\"http://www.w3.org/2000/svg\" height=\"24px\" viewBox=\"0 -960 960 960\">\n",
              "    <path d=\"M120-120v-720h720v720H120Zm60-500h600v-160H180v160Zm220 220h160v-160H400v160Zm0 220h160v-160H400v160ZM180-400h160v-160H180v160Zm440 0h160v-160H620v160ZM180-180h160v-160H180v160Zm440 0h160v-160H620v160Z\"/>\n",
              "  </svg>\n",
              "    </button>\n",
              "\n",
              "  <style>\n",
              "    .colab-df-container {\n",
              "      display:flex;\n",
              "      gap: 12px;\n",
              "    }\n",
              "\n",
              "    .colab-df-convert {\n",
              "      background-color: #E8F0FE;\n",
              "      border: none;\n",
              "      border-radius: 50%;\n",
              "      cursor: pointer;\n",
              "      display: none;\n",
              "      fill: #1967D2;\n",
              "      height: 32px;\n",
              "      padding: 0 0 0 0;\n",
              "      width: 32px;\n",
              "    }\n",
              "\n",
              "    .colab-df-convert:hover {\n",
              "      background-color: #E2EBFA;\n",
              "      box-shadow: 0px 1px 2px rgba(60, 64, 67, 0.3), 0px 1px 3px 1px rgba(60, 64, 67, 0.15);\n",
              "      fill: #174EA6;\n",
              "    }\n",
              "\n",
              "    .colab-df-buttons div {\n",
              "      margin-bottom: 4px;\n",
              "    }\n",
              "\n",
              "    [theme=dark] .colab-df-convert {\n",
              "      background-color: #3B4455;\n",
              "      fill: #D2E3FC;\n",
              "    }\n",
              "\n",
              "    [theme=dark] .colab-df-convert:hover {\n",
              "      background-color: #434B5C;\n",
              "      box-shadow: 0px 1px 3px 1px rgba(0, 0, 0, 0.15);\n",
              "      filter: drop-shadow(0px 1px 2px rgba(0, 0, 0, 0.3));\n",
              "      fill: #FFFFFF;\n",
              "    }\n",
              "  </style>\n",
              "\n",
              "    <script>\n",
              "      const buttonEl =\n",
              "        document.querySelector('#df-c3e448eb-f780-4d5d-83d5-ce8dfaf11142 button.colab-df-convert');\n",
              "      buttonEl.style.display =\n",
              "        google.colab.kernel.accessAllowed ? 'block' : 'none';\n",
              "\n",
              "      async function convertToInteractive(key) {\n",
              "        const element = document.querySelector('#df-c3e448eb-f780-4d5d-83d5-ce8dfaf11142');\n",
              "        const dataTable =\n",
              "          await google.colab.kernel.invokeFunction('convertToInteractive',\n",
              "                                                    [key], {});\n",
              "        if (!dataTable) return;\n",
              "\n",
              "        const docLinkHtml = 'Like what you see? Visit the ' +\n",
              "          '<a target=\"_blank\" href=https://colab.research.google.com/notebooks/data_table.ipynb>data table notebook</a>'\n",
              "          + ' to learn more about interactive tables.';\n",
              "        element.innerHTML = '';\n",
              "        dataTable['output_type'] = 'display_data';\n",
              "        await google.colab.output.renderOutput(dataTable, element);\n",
              "        const docLink = document.createElement('div');\n",
              "        docLink.innerHTML = docLinkHtml;\n",
              "        element.appendChild(docLink);\n",
              "      }\n",
              "    </script>\n",
              "  </div>\n",
              "\n",
              "\n",
              "    <div id=\"df-d6e776a0-f534-4ae2-885d-d4000ab196fd\">\n",
              "      <button class=\"colab-df-quickchart\" onclick=\"quickchart('df-d6e776a0-f534-4ae2-885d-d4000ab196fd')\"\n",
              "                title=\"Suggest charts\"\n",
              "                style=\"display:none;\">\n",
              "\n",
              "<svg xmlns=\"http://www.w3.org/2000/svg\" height=\"24px\"viewBox=\"0 0 24 24\"\n",
              "     width=\"24px\">\n",
              "    <g>\n",
              "        <path d=\"M19 3H5c-1.1 0-2 .9-2 2v14c0 1.1.9 2 2 2h14c1.1 0 2-.9 2-2V5c0-1.1-.9-2-2-2zM9 17H7v-7h2v7zm4 0h-2V7h2v10zm4 0h-2v-4h2v4z\"/>\n",
              "    </g>\n",
              "</svg>\n",
              "      </button>\n",
              "\n",
              "<style>\n",
              "  .colab-df-quickchart {\n",
              "      --bg-color: #E8F0FE;\n",
              "      --fill-color: #1967D2;\n",
              "      --hover-bg-color: #E2EBFA;\n",
              "      --hover-fill-color: #174EA6;\n",
              "      --disabled-fill-color: #AAA;\n",
              "      --disabled-bg-color: #DDD;\n",
              "  }\n",
              "\n",
              "  [theme=dark] .colab-df-quickchart {\n",
              "      --bg-color: #3B4455;\n",
              "      --fill-color: #D2E3FC;\n",
              "      --hover-bg-color: #434B5C;\n",
              "      --hover-fill-color: #FFFFFF;\n",
              "      --disabled-bg-color: #3B4455;\n",
              "      --disabled-fill-color: #666;\n",
              "  }\n",
              "\n",
              "  .colab-df-quickchart {\n",
              "    background-color: var(--bg-color);\n",
              "    border: none;\n",
              "    border-radius: 50%;\n",
              "    cursor: pointer;\n",
              "    display: none;\n",
              "    fill: var(--fill-color);\n",
              "    height: 32px;\n",
              "    padding: 0;\n",
              "    width: 32px;\n",
              "  }\n",
              "\n",
              "  .colab-df-quickchart:hover {\n",
              "    background-color: var(--hover-bg-color);\n",
              "    box-shadow: 0 1px 2px rgba(60, 64, 67, 0.3), 0 1px 3px 1px rgba(60, 64, 67, 0.15);\n",
              "    fill: var(--button-hover-fill-color);\n",
              "  }\n",
              "\n",
              "  .colab-df-quickchart-complete:disabled,\n",
              "  .colab-df-quickchart-complete:disabled:hover {\n",
              "    background-color: var(--disabled-bg-color);\n",
              "    fill: var(--disabled-fill-color);\n",
              "    box-shadow: none;\n",
              "  }\n",
              "\n",
              "  .colab-df-spinner {\n",
              "    border: 2px solid var(--fill-color);\n",
              "    border-color: transparent;\n",
              "    border-bottom-color: var(--fill-color);\n",
              "    animation:\n",
              "      spin 1s steps(1) infinite;\n",
              "  }\n",
              "\n",
              "  @keyframes spin {\n",
              "    0% {\n",
              "      border-color: transparent;\n",
              "      border-bottom-color: var(--fill-color);\n",
              "      border-left-color: var(--fill-color);\n",
              "    }\n",
              "    20% {\n",
              "      border-color: transparent;\n",
              "      border-left-color: var(--fill-color);\n",
              "      border-top-color: var(--fill-color);\n",
              "    }\n",
              "    30% {\n",
              "      border-color: transparent;\n",
              "      border-left-color: var(--fill-color);\n",
              "      border-top-color: var(--fill-color);\n",
              "      border-right-color: var(--fill-color);\n",
              "    }\n",
              "    40% {\n",
              "      border-color: transparent;\n",
              "      border-right-color: var(--fill-color);\n",
              "      border-top-color: var(--fill-color);\n",
              "    }\n",
              "    60% {\n",
              "      border-color: transparent;\n",
              "      border-right-color: var(--fill-color);\n",
              "    }\n",
              "    80% {\n",
              "      border-color: transparent;\n",
              "      border-right-color: var(--fill-color);\n",
              "      border-bottom-color: var(--fill-color);\n",
              "    }\n",
              "    90% {\n",
              "      border-color: transparent;\n",
              "      border-bottom-color: var(--fill-color);\n",
              "    }\n",
              "  }\n",
              "</style>\n",
              "\n",
              "      <script>\n",
              "        async function quickchart(key) {\n",
              "          const quickchartButtonEl =\n",
              "            document.querySelector('#' + key + ' button');\n",
              "          quickchartButtonEl.disabled = true;  // To prevent multiple clicks.\n",
              "          quickchartButtonEl.classList.add('colab-df-spinner');\n",
              "          try {\n",
              "            const charts = await google.colab.kernel.invokeFunction(\n",
              "                'suggestCharts', [key], {});\n",
              "          } catch (error) {\n",
              "            console.error('Error during call to suggestCharts:', error);\n",
              "          }\n",
              "          quickchartButtonEl.classList.remove('colab-df-spinner');\n",
              "          quickchartButtonEl.classList.add('colab-df-quickchart-complete');\n",
              "        }\n",
              "        (() => {\n",
              "          let quickchartButtonEl =\n",
              "            document.querySelector('#df-d6e776a0-f534-4ae2-885d-d4000ab196fd button');\n",
              "          quickchartButtonEl.style.display =\n",
              "            google.colab.kernel.accessAllowed ? 'block' : 'none';\n",
              "        })();\n",
              "      </script>\n",
              "    </div>\n",
              "\n",
              "    </div>\n",
              "  </div>\n"
            ],
            "application/vnd.google.colaboratory.intrinsic+json": {
              "type": "dataframe",
              "summary": "{\n  \"name\": \"df\",\n  \"rows\": 8,\n  \"fields\": [\n    {\n      \"column\": \"Clothing ID\",\n      \"properties\": {\n        \"dtype\": \"number\",\n        \"std\": 7753.563600757016,\n        \"min\": 1.0,\n        \"max\": 22641.0,\n        \"num_unique_values\": 8,\n        \"samples\": [\n          919.3323616448037,\n          936.0,\n          22641.0\n        ],\n        \"semantic_type\": \"\",\n        \"description\": \"\"\n      }\n    },\n    {\n      \"column\": \"Age\",\n      \"properties\": {\n        \"dtype\": \"number\",\n        \"std\": 7989.713376885754,\n        \"min\": 12.326979537692795,\n        \"max\": 22641.0,\n        \"num_unique_values\": 8,\n        \"samples\": [\n          43.28037630846694,\n          41.0,\n          22641.0\n        ],\n        \"semantic_type\": \"\",\n        \"description\": \"\"\n      }\n    },\n    {\n      \"column\": \"Rating\",\n      \"properties\": {\n        \"dtype\": \"number\",\n        \"std\": 8003.524679974326,\n        \"min\": 1.0,\n        \"max\": 22641.0,\n        \"num_unique_values\": 6,\n        \"samples\": [\n          22641.0,\n          4.183560796784595,\n          5.0\n        ],\n        \"semantic_type\": \"\",\n        \"description\": \"\"\n      }\n    },\n    {\n      \"column\": \"Recommended IND\",\n      \"properties\": {\n        \"dtype\": \"number\",\n        \"std\": 8004.539483001675,\n        \"min\": 0.0,\n        \"max\": 22641.0,\n        \"num_unique_values\": 5,\n        \"samples\": [\n          0.8188684245395521,\n          1.0,\n          0.3851356633678027\n        ],\n        \"semantic_type\": \"\",\n        \"description\": \"\"\n      }\n    },\n    {\n      \"column\": \"Positive Feedback Count\",\n      \"properties\": {\n        \"dtype\": \"number\",\n        \"std\": 7998.123569303943,\n        \"min\": 0.0,\n        \"max\": 22641.0,\n        \"num_unique_values\": 7,\n        \"samples\": [\n          22641.0,\n          2.630581688087982,\n          3.0\n        ],\n        \"semantic_type\": \"\",\n        \"description\": \"\"\n      }\n    },\n    {\n      \"column\": \"review_len\",\n      \"properties\": {\n        \"dtype\": \"number\",\n        \"std\": 7909.726507999252,\n        \"min\": 9.0,\n        \"max\": 22641.0,\n        \"num_unique_values\": 8,\n        \"samples\": [\n          308.6878671436774,\n          301.0,\n          22641.0\n        ],\n        \"semantic_type\": \"\",\n        \"description\": \"\"\n      }\n    },\n    {\n      \"column\": \"word_count\",\n      \"properties\": {\n        \"dtype\": \"number\",\n        \"std\": 7985.245353147101,\n        \"min\": 2.0,\n        \"max\": 22641.0,\n        \"num_unique_values\": 8,\n        \"samples\": [\n          60.19667859193498,\n          59.0,\n          22641.0\n        ],\n        \"semantic_type\": \"\",\n        \"description\": \"\"\n      }\n    }\n  ]\n}"
            }
          },
          "metadata": {},
          "execution_count": 6
        }
      ],
      "source": [
        "df.describe()"
      ]
    },
    {
      "cell_type": "code",
      "source": [
        "df.shape"
      ],
      "metadata": {
        "colab": {
          "base_uri": "https://localhost:8080/"
        },
        "id": "NQO9oStMTby2",
        "outputId": "112df4d6-769d-4a0d-fa81-a92d9ab6a92b"
      },
      "execution_count": null,
      "outputs": [
        {
          "output_type": "execute_result",
          "data": {
            "text/plain": [
              "(22641, 11)"
            ]
          },
          "metadata": {},
          "execution_count": 7
        }
      ]
    },
    {
      "cell_type": "code",
      "source": [
        "df.info()"
      ],
      "metadata": {
        "colab": {
          "base_uri": "https://localhost:8080/"
        },
        "id": "FsTSoImnTfh1",
        "outputId": "b0c5e581-0151-4317-82a1-fbb933366a5e"
      },
      "execution_count": null,
      "outputs": [
        {
          "output_type": "stream",
          "name": "stdout",
          "text": [
            "<class 'pandas.core.frame.DataFrame'>\n",
            "RangeIndex: 22641 entries, 0 to 22640\n",
            "Data columns (total 11 columns):\n",
            " #   Column                   Non-Null Count  Dtype \n",
            "---  ------                   --------------  ----- \n",
            " 0   Clothing ID              22641 non-null  int64 \n",
            " 1   Age                      22641 non-null  int64 \n",
            " 2   Review Text              22641 non-null  object\n",
            " 3   Rating                   22641 non-null  int64 \n",
            " 4   Recommended IND          22641 non-null  int64 \n",
            " 5   Positive Feedback Count  22641 non-null  int64 \n",
            " 6   Division Name            22628 non-null  object\n",
            " 7   Department Name          22628 non-null  object\n",
            " 8   Class Name               22628 non-null  object\n",
            " 9   review_len               22641 non-null  int64 \n",
            " 10  word_count               22641 non-null  int64 \n",
            "dtypes: int64(7), object(4)\n",
            "memory usage: 1.9+ MB\n"
          ]
        }
      ]
    },
    {
      "cell_type": "code",
      "source": [
        "df.isnull().sum()"
      ],
      "metadata": {
        "colab": {
          "base_uri": "https://localhost:8080/",
          "height": 429
        },
        "id": "F045w-8qTjfZ",
        "outputId": "5132bf22-e78b-4edf-8aa3-d313adb469ec"
      },
      "execution_count": null,
      "outputs": [
        {
          "output_type": "execute_result",
          "data": {
            "text/plain": [
              "Clothing ID                 0\n",
              "Age                         0\n",
              "Review Text                 0\n",
              "Rating                      0\n",
              "Recommended IND             0\n",
              "Positive Feedback Count     0\n",
              "Division Name              13\n",
              "Department Name            13\n",
              "Class Name                 13\n",
              "review_len                  0\n",
              "word_count                  0\n",
              "dtype: int64"
            ],
            "text/html": [
              "<div>\n",
              "<style scoped>\n",
              "    .dataframe tbody tr th:only-of-type {\n",
              "        vertical-align: middle;\n",
              "    }\n",
              "\n",
              "    .dataframe tbody tr th {\n",
              "        vertical-align: top;\n",
              "    }\n",
              "\n",
              "    .dataframe thead th {\n",
              "        text-align: right;\n",
              "    }\n",
              "</style>\n",
              "<table border=\"1\" class=\"dataframe\">\n",
              "  <thead>\n",
              "    <tr style=\"text-align: right;\">\n",
              "      <th></th>\n",
              "      <th>0</th>\n",
              "    </tr>\n",
              "  </thead>\n",
              "  <tbody>\n",
              "    <tr>\n",
              "      <th>Clothing ID</th>\n",
              "      <td>0</td>\n",
              "    </tr>\n",
              "    <tr>\n",
              "      <th>Age</th>\n",
              "      <td>0</td>\n",
              "    </tr>\n",
              "    <tr>\n",
              "      <th>Review Text</th>\n",
              "      <td>0</td>\n",
              "    </tr>\n",
              "    <tr>\n",
              "      <th>Rating</th>\n",
              "      <td>0</td>\n",
              "    </tr>\n",
              "    <tr>\n",
              "      <th>Recommended IND</th>\n",
              "      <td>0</td>\n",
              "    </tr>\n",
              "    <tr>\n",
              "      <th>Positive Feedback Count</th>\n",
              "      <td>0</td>\n",
              "    </tr>\n",
              "    <tr>\n",
              "      <th>Division Name</th>\n",
              "      <td>13</td>\n",
              "    </tr>\n",
              "    <tr>\n",
              "      <th>Department Name</th>\n",
              "      <td>13</td>\n",
              "    </tr>\n",
              "    <tr>\n",
              "      <th>Class Name</th>\n",
              "      <td>13</td>\n",
              "    </tr>\n",
              "    <tr>\n",
              "      <th>review_len</th>\n",
              "      <td>0</td>\n",
              "    </tr>\n",
              "    <tr>\n",
              "      <th>word_count</th>\n",
              "      <td>0</td>\n",
              "    </tr>\n",
              "  </tbody>\n",
              "</table>\n",
              "</div><br><label><b>dtype:</b> int64</label>"
            ]
          },
          "metadata": {},
          "execution_count": 9
        }
      ]
    },
    {
      "cell_type": "markdown",
      "metadata": {
        "id": "cm9IgbLyLLgU"
      },
      "source": [
        "<a id = \"cell_Basic\"></a>\n",
        "### Basic Plot"
      ]
    },
    {
      "cell_type": "markdown",
      "metadata": {
        "id": "qMyIku_B_lb6"
      },
      "source": [
        "We need to load `matplotlib` library first:"
      ]
    },
    {
      "cell_type": "code",
      "execution_count": null,
      "metadata": {
        "id": "bC9CUj31_lb7"
      },
      "outputs": [],
      "source": [
        "from matplotlib import pyplot"
      ]
    },
    {
      "cell_type": "markdown",
      "metadata": {
        "id": "zshg7IvZLLgp"
      },
      "source": [
        "Histogram plot of **_age_**  distribution:"
      ]
    },
    {
      "cell_type": "code",
      "execution_count": null,
      "metadata": {
        "id": "kcq185ULLLhD",
        "scrolled": false,
        "colab": {
          "base_uri": "https://localhost:8080/",
          "height": 341
        },
        "outputId": "a0f9c1b6-fce1-4b2b-f09b-b91c6e7490a0"
      },
      "outputs": [
        {
          "output_type": "display_data",
          "data": {
            "text/plain": [
              "<Figure size 600x300 with 1 Axes>"
            ],
            "image/png": "[encoded data removed]"
          },
          "metadata": {}
        }
      ],
      "source": [
        "pyplot.figure(figsize=(6, 3))\n",
        "pyplot.hist(df['Age'], bins=10, rwidth=0.9, color ='red')\n",
        "pyplot.suptitle('Reviewers Age Distribution')\n",
        "pyplot.xlabel('Age')\n",
        "pyplot.ylabel('Count') ;"
      ]
    },
    {
      "cell_type": "markdown",
      "metadata": {
        "id": "rIG0zvu2_lb7"
      },
      "source": [
        "Bar plot **_rating_** count:"
      ]
    },
    {
      "cell_type": "code",
      "execution_count": null,
      "metadata": {
        "id": "zilCIz-GLLga",
        "colab": {
          "base_uri": "https://localhost:8080/",
          "height": 504
        },
        "outputId": "aa3813de-14ad-4454-bf79-234d97a16bca"
      },
      "outputs": [
        {
          "output_type": "stream",
          "name": "stdout",
          "text": [
            "        Clothing ID    Age  Review Text\n",
            "Rating                                 \n",
            "1               821    821          821\n",
            "2              1549   1549         1549\n",
            "3              2823   2823         2823\n",
            "4              4908   4908         4908\n",
            "5             12540  12540        12540\n",
            "Note that the Number of Review Text column may be less than others Because some cell in Review Text colum is Null\n"
          ]
        },
        {
          "output_type": "display_data",
          "data": {
            "text/plain": [
              "<Figure size 600x300 with 1 Axes>"
            ],
            "image/png": "[encoded data removed]"
          },
          "metadata": {}
        }
      ],
      "source": [
        "#Count reviews by ratings, only show three columns Clothing ID, Age and Review Text\n",
        "RatingCount = df.groupby('Rating').count()[['Clothing ID','Age','Review Text']]\n",
        "print(RatingCount)\n",
        "print('Note that the Number of Review Text column may be less than others \\\n",
        "Because some cell in Review Text colum is Null')\n",
        "\n",
        "pyplot.figure(figsize=(6, 3))\n",
        "pyplot.bar(RatingCount.index.values,RatingCount['Clothing ID'], color='blue', width=0.6)\n",
        "pyplot.suptitle('Rating Count')\n",
        "pyplot.xlabel('Rating Value')\n",
        "pyplot.ylabel('Count') ;"
      ]
    },
    {
      "cell_type": "markdown",
      "metadata": {
        "id": "bNd3ruUx_lb8"
      },
      "source": [
        "<a id = \"cell_Box\"></a>\n",
        "### Box plot\n",
        "\n",
        "Box plots for reviewer **_age_** by **_department_**:"
      ]
    },
    {
      "cell_type": "code",
      "execution_count": null,
      "metadata": {
        "id": "7JEPNfM0_lb8",
        "colab": {
          "base_uri": "https://localhost:8080/",
          "height": 472
        },
        "outputId": "c8fd8edd-e2c4-46b3-f1a8-e8fbd1b26dbc"
      },
      "outputs": [
        {
          "output_type": "stream",
          "name": "stderr",
          "text": [
            "/tmp/ipython-input-13-2772611085.py:14: MatplotlibDeprecationWarning: The 'labels' parameter of boxplot() has been renamed 'tick_labels' since Matplotlib 3.9; support for the old name will be dropped in 3.11.\n",
            "  pyplot.boxplot(AgeData, labels = DepartmentNames);\n"
          ]
        },
        {
          "output_type": "display_data",
          "data": {
            "text/plain": [
              "<Figure size 600x400 with 1 Axes>"
            ],
            "image/png": "[encoded data removed]"
          },
          "metadata": {}
        }
      ],
      "source": [
        "#Get name of departments - not including null (nan) value.\n",
        "DepartmentNames = df[~df['Department Name'].isnull()]['Department Name'].unique()\n",
        "\n",
        "#Construct a list of Age data for departments\n",
        "AgeData = []\n",
        "for i in range(len(DepartmentNames)):\n",
        "    AgeData.append(df.loc[df['Department Name'] == DepartmentNames[i]]['Age'])\n",
        "\n",
        "#Create a new figure\n",
        "pyplot.figure(figsize=(6,4))\n",
        "pyplot.title('Box Plot - Age by Department', fontsize=15)\n",
        "pyplot.xlabel('Department', fontsize=12)\n",
        "pyplot.ylabel('Age', fontsize=12)\n",
        "pyplot.boxplot(AgeData, labels = DepartmentNames);"
      ]
    },
    {
      "cell_type": "markdown",
      "source": [
        "Visualize the Label Column for Sentiment Analysis"
      ],
      "metadata": {
        "id": "PwqPy_fJKwRJ"
      }
    },
    {
      "cell_type": "code",
      "source": [
        "counts = df['Recommended IND'].value_counts()\n",
        "\n",
        "# Plotting the bar chart\n",
        "pyplot.bar(counts.index, counts.values)\n",
        "\n",
        "# Adding labels and title\n",
        "pyplot.ylabel('Count')\n",
        "pyplot.title('Sentiment Analysis')\n",
        "pyplot.xticks(counts.index, ['Recommended (1)','Not Recommended (0)'])\n",
        "\n",
        "# Show plot\n",
        "pyplot.show()"
      ],
      "metadata": {
        "id": "DgiFgzN3tKrd",
        "colab": {
          "base_uri": "https://localhost:8080/",
          "height": 452
        },
        "outputId": "fa0dccb3-68dd-400f-b055-05d7b21c8a89"
      },
      "execution_count": null,
      "outputs": [
        {
          "output_type": "display_data",
          "data": {
            "text/plain": [
              "<Figure size 640x480 with 1 Axes>"
            ],
            "image/png": "[encoded data removed]"
          },
          "metadata": {}
        }
      ]
    },
    {
      "cell_type": "markdown",
      "metadata": {
        "id": "PJ-ztmpr_lb9"
      },
      "source": [
        "**bold text**<a id = \"cell_Textclassification\"></a>\n",
        "### 2. Machine Learning Based Sentiment Analysis\n",
        "\n",
        "Text classification is one of the important tasks of text mining. It is a supervised approach. Identifying category or class of given text such as a blog, book, web page, news articles, and tweets. It has various application in today's computer world such as spam detection, task categorization in CRM services, categorizing products on E-retailer websites, classifying the content of websites for a search engine, sentiments of customer feedback, etc.\n",
        "\n",
        "In this exercise, we shall build a classification model to predict if customers would recommend clothes based on their review comments, which can be used to analyze customers' sentiments."
      ]
    },
    {
      "cell_type": "markdown",
      "metadata": {
        "id": "lSbOhZXf_lb9"
      },
      "source": [
        "<a id = \"cell_bow\"></a>\n",
        "### Bag of Words Features\n",
        "\n",
        "Bag-of-words model(BoW ) is the simplest way of extracting features from the text. BoW converts text into the matrix of occurrence of words within a document. This model concerns about whether given words occurred or not in the document."
      ]
    },
    {
      "cell_type": "code",
      "execution_count": null,
      "metadata": {
        "id": "_JFlTSqA_lb9",
        "colab": {
          "base_uri": "https://localhost:8080/"
        },
        "outputId": "fccc3513-dba3-4652-f30d-a9366088fb1c"
      },
      "outputs": [
        {
          "output_type": "stream",
          "name": "stderr",
          "text": [
            "/usr/local/lib/python3.11/dist-packages/sklearn/feature_extraction/text.py:517: UserWarning: The parameter 'token_pattern' will not be used since 'tokenizer' is not None'\n",
            "  warnings.warn(\n"
          ]
        },
        {
          "output_type": "stream",
          "name": "stdout",
          "text": [
            "Bag of Word Matrix size:  (22641, 13875)\n",
            "Data in the first row:\n",
            " <Compressed Sparse Row sparse matrix of dtype 'int64'\n",
            "\twith 26 stored elements and shape (1, 13875)>\n",
            "  Coords\tValues\n",
            "  (0, 7264)\t2\n",
            "  (0, 4036)\t1\n",
            "  (0, 10359)\t2\n",
            "  (0, 11306)\t1\n",
            "  (0, 9350)\t1\n",
            "  (0, 5729)\t1\n",
            "  (0, 11644)\t1\n",
            "  (0, 7343)\t1\n",
            "  (0, 5424)\t1\n",
            "  (0, 3702)\t1\n",
            "  (0, 1444)\t2\n",
            "  (0, 8441)\t1\n",
            "  (0, 8373)\t1\n",
            "  (0, 8899)\t3\n",
            "  (0, 1844)\t1\n",
            "  (0, 453)\t1\n",
            "  (0, 512)\t1\n",
            "  (0, 6993)\t1\n",
            "  (0, 5934)\t1\n",
            "  (0, 6672)\t1\n",
            "  (0, 7144)\t1\n",
            "  (0, 6760)\t1\n",
            "  (0, 3538)\t1\n",
            "  (0, 12693)\t1\n",
            "  (0, 7679)\t1\n",
            "  (0, 12695)\t1\n"
          ]
        }
      ],
      "source": [
        "from sklearn.feature_extraction.text import CountVectorizer\n",
        "from nltk.tokenize import RegexpTokenizer\n",
        "\n",
        "#tokenizer to remove unwanted elements from out data like symbols and numbers\n",
        "token = RegexpTokenizer(r'[a-zA-Z0-9]+')\n",
        "cv = CountVectorizer(lowercase=True,stop_words='english',ngram_range = (1,1),tokenizer = token.tokenize)\n",
        "\n",
        "text_counts = cv.fit_transform(df['Review Text'])\n",
        "print('Bag of Word Matrix size: ', text_counts.shape)\n",
        "print('Data in the first row:\\n', text_counts[1,:])"
      ]
    },
    {
      "cell_type": "markdown",
      "metadata": {
        "id": "8r_M4Okf_lb9"
      },
      "source": [
        "<a id = \"cell_Model\"></a>\n",
        "### Model Construction\n",
        "\n",
        "Split the data for hold-out test:"
      ]
    },
    {
      "cell_type": "code",
      "execution_count": null,
      "metadata": {
        "id": "nrlaqRVf_lb9"
      },
      "outputs": [],
      "source": [
        "from sklearn.model_selection import train_test_split\n",
        "\n",
        "X_train, X_test, y_train, y_test = train_test_split(\n",
        "    text_counts, df['Recommended IND'], test_size=0.3, random_state=1)"
      ]
    },
    {
      "cell_type": "markdown",
      "source": [
        "### <font color=\"blue\"> Exercise\n",
        "Examine the use of \"stratify\" parameter when splitting data"
      ],
      "metadata": {
        "id": "7NawYVng59ib"
      }
    },
    {
      "cell_type": "code",
      "source": [],
      "metadata": {
        "id": "0N41k_kd6Niy"
      },
      "execution_count": null,
      "outputs": []
    },
    {
      "cell_type": "markdown",
      "metadata": {
        "id": "yOM3L6Aw_lb9"
      },
      "source": [
        "Train and evaluate Naive Bayes classifier:"
      ]
    },
    {
      "cell_type": "code",
      "execution_count": null,
      "metadata": {
        "id": "60V4RAgp_lb9"
      },
      "outputs": [],
      "source": [
        "from sklearn.naive_bayes import MultinomialNB\n",
        "from sklearn import metrics\n",
        "\n",
        "# Model Generation Using Multinomial Naive Bayes\n",
        "clf = MultinomialNB().fit(X_train, y_train)\n",
        "predicted= clf.predict(X_test)\n",
        "\n",
        "print(\"MultinomialNB Accuracy:\", round(metrics.accuracy_score(y_test, predicted),3))\n",
        "print(\"Confusion Matrix:\\n\",metrics.confusion_matrix(y_test, predicted))"
      ]
    },
    {
      "cell_type": "code",
      "source": [
        "# Exercise - Visualise the Confusion matrix"
      ],
      "metadata": {
        "id": "_pgoBgcW6iFH"
      },
      "execution_count": null,
      "outputs": []
    },
    {
      "cell_type": "markdown",
      "metadata": {
        "id": "cWvpgGw7_lcA"
      },
      "source": [
        "<a id = \"cell_DimensionalityReduction\"></a>\n",
        "### 3. Dimensionality Reduction\n"
      ]
    },
    {
      "cell_type": "markdown",
      "metadata": {
        "id": "wrDZ7Bcl_lcA"
      },
      "source": [
        "<a id = \"cell_Univariate\"></a>\n",
        "### Univariate Selection:\n",
        "\n",
        "Statistical tests can be used to select those features that have the strongest relationships with the output variable. The `scikit-learn` library provides the `SelectKBest` class, which can be used with a suite of different statistical tests to select a specific number of features."
      ]
    },
    {
      "cell_type": "code",
      "execution_count": null,
      "metadata": {
        "id": "TemIHUoi_lcA",
        "colab": {
          "base_uri": "https://localhost:8080/"
        },
        "outputId": "99a06e12-9db6-4934-d3e4-ac6c1704ec6e"
      },
      "outputs": [
        {
          "output_type": "stream",
          "name": "stdout",
          "text": [
            "Reduced Data Set size: (22641, 100)\n"
          ]
        }
      ],
      "source": [
        "from sklearn.feature_selection import SelectKBest\n",
        "\n",
        "#Get the target label\n",
        "Target = df['Recommended IND']\n",
        "#We will select the top 100 features\n",
        "test = SelectKBest(k=100)\n",
        "#Fit the function for ranking the features by score\n",
        "fit = test.fit(text_counts, Target)\n",
        "UnivariateFeatures = fit.transform(text_counts)\n",
        "print('Reduced Data Set size:',UnivariateFeatures.shape)"
      ]
    },
    {
      "cell_type": "markdown",
      "metadata": {
        "id": "QKmyJxXY_lcB"
      },
      "source": [
        "Evaluate the performance of **Logistic Regression** based on the reduced features sets"
      ]
    },
    {
      "cell_type": "code",
      "execution_count": null,
      "metadata": {
        "id": "CQahvWnb_lcB"
      },
      "outputs": [],
      "source": [
        "from sklearn.linear_model import LogisticRegression\n",
        "from sklearn import metrics\n",
        "\n",
        "def evaluation(feature_set,Target):\n",
        "    X_train, X_test, y_train, y_test = train_test_split(\n",
        "        feature_set, Target, test_size=0.3, random_state=123)\n",
        "    clf = LogisticRegression(solver='liblinear').fit(X_train, y_train)\n",
        "    predicted= clf.predict(X_test)\n",
        "    return metrics.accuracy_score(y_test, predicted)\n",
        "\n",
        "print('UnivariateFeatures Accuracy:', round(evaluation(UnivariateFeatures,Target),3))"
      ]
    },
    {
      "cell_type": "markdown",
      "metadata": {
        "id": "APqLZjhC_lcB"
      },
      "source": [
        "<a id = \"cell_Sentiment\"></a>\n",
        "###  4. Lexicon-based Sentiment Analysis\n",
        "\n",
        "This approach uses a variety of words annotated by polarity score, to decide the general assessment score of a given content. The `nltk.sentiment` library provides `SentimentIntensityAnalyzer` moudle, which allows for estimating setiment directly from natural text."
      ]
    },
    {
      "cell_type": "code",
      "execution_count": null,
      "metadata": {
        "id": "TWtr01K8_lcB",
        "colab": {
          "base_uri": "https://localhost:8080/"
        },
        "outputId": "d13a01dc-8d83-4ba3-e8ea-3718a37c6978"
      },
      "outputs": [
        {
          "output_type": "stream",
          "name": "stderr",
          "text": [
            "[nltk_data] Downloading package vader_lexicon to /root/nltk_data...\n"
          ]
        }
      ],
      "source": [
        "# first, we import the relevant modules from the NLTK library\n",
        "import nltk\n",
        "nltk.download('vader_lexicon')\n",
        "from nltk.sentiment.vader import SentimentIntensityAnalyzer"
      ]
    },
    {
      "cell_type": "code",
      "execution_count": null,
      "metadata": {
        "id": "RrSEO4ld_lcC",
        "colab": {
          "base_uri": "https://localhost:8080/",
          "height": 233
        },
        "outputId": "03126a8c-8eb8-42e7-e20a-10ac829cbb8e"
      },
      "outputs": [
        {
          "output_type": "error",
          "ename": "NameError",
          "evalue": "name 'df' is not defined",
          "traceback": [
            "\u001b[0;31m---------------------------------------------------------------------------\u001b[0m",
            "\u001b[0;31mNameError\u001b[0m                                 Traceback (most recent call last)",
            "\u001b[0;32m/tmp/ipython-input-2-975172439.py\u001b[0m in \u001b[0;36m<cell line: 0>\u001b[0;34m()\u001b[0m\n\u001b[1;32m      2\u001b[0m \u001b[0msid\u001b[0m \u001b[0;34m=\u001b[0m \u001b[0mSentimentIntensityAnalyzer\u001b[0m\u001b[0;34m(\u001b[0m\u001b[0;34m)\u001b[0m\u001b[0;34m\u001b[0m\u001b[0;34m\u001b[0m\u001b[0m\n\u001b[1;32m      3\u001b[0m \u001b[0;34m\u001b[0m\u001b[0m\n\u001b[0;32m----> 4\u001b[0;31m \u001b[0mmessage_text\u001b[0m \u001b[0;34m=\u001b[0m \u001b[0mdf\u001b[0m\u001b[0;34m[\u001b[0m\u001b[0;34m'Review Text'\u001b[0m\u001b[0;34m]\u001b[0m\u001b[0;34m[\u001b[0m\u001b[0;36m1\u001b[0m\u001b[0;34m]\u001b[0m\u001b[0;34m\u001b[0m\u001b[0;34m\u001b[0m\u001b[0m\n\u001b[0m\u001b[1;32m      5\u001b[0m \u001b[0mprint\u001b[0m\u001b[0;34m(\u001b[0m\u001b[0;34m'Review Comment:\\n'\u001b[0m\u001b[0;34m,\u001b[0m \u001b[0mmessage_text\u001b[0m\u001b[0;34m)\u001b[0m\u001b[0;34m\u001b[0m\u001b[0;34m\u001b[0m\u001b[0m\n",
            "\u001b[0;31mNameError\u001b[0m: name 'df' is not defined"
          ]
        }
      ],
      "source": [
        "#Initialize an instance of SentimentIntensityAnalyzer\n",
        "sid = SentimentIntensityAnalyzer()\n",
        "\n",
        "message_text = df['Review Text'][1]\n",
        "print('Review Comment:\\n', message_text)"
      ]
    },
    {
      "cell_type": "code",
      "execution_count": null,
      "metadata": {
        "id": "_MTJlcY6_lcC"
      },
      "outputs": [],
      "source": [
        "#Estimate sentiment scores\n",
        "scores = sid.polarity_scores(message_text)\n",
        "for key in sorted(scores):\n",
        "        print('{0}: {1} \\n'.format(key, scores[key]), end='')\n",
        "print('True Recommedation Label was: ', df['Recommended IND'][1])"
      ]
    },
    {
      "cell_type": "markdown",
      "source": [
        "The `compound` value show the overall sentiment of the text. A positive compound value indicate overall positive sentiment, while a negative compound value indicates overall negative sentiment. A threshold `(e.g., 0.1, 0.2, -0.1, -0.2)` is usually applied to the compound value to classify the text into positive or negative to ensure the sentiment is significant."
      ],
      "metadata": {
        "id": "zbiDnSDqewJe"
      }
    },
    {
      "cell_type": "markdown",
      "metadata": {
        "id": "Yu1G1hhx_lcC"
      },
      "source": [
        "<a id = \"cell_AspectSentiment\"></a>\n",
        "###  5. Aspect-Level Sentiment Analysis\n",
        "\n",
        "Aspect-based sentiment analysis is a text analysis technique that breaks down text into aspects (*_attributes_* or *_components_* of a product or service), and then allocates each one a sentiment level (*_positive_*, *_negative_* or *_neutral_*).\n",
        "\n",
        "In this exercise, we shall compute the sentiment scores with repect to specific clothing features, such as *_color_*, *_material_* and *_size_*."
      ]
    },
    {
      "cell_type": "code",
      "execution_count": null,
      "metadata": {
        "id": "vFP35S5X_lcC"
      },
      "outputs": [],
      "source": [
        "from nltk.tokenize import sent_tokenize\n",
        "from nltk.sentiment.vader import SentimentIntensityAnalyzer\n",
        "#A sample review comment\n",
        "ReviewComment = 'the color is really nice charcoal with shimmer, and went well with pencil skirts,\\\n",
        "flare pants, etc. the material feels very cheap and disapointing. on it will cause it to rip the fabric. \\\n",
        "pretty disappointed as it was going to be my christmas dress this year! \\\n",
        "needless to say it will be going back. Material is bad, the size is verys mall and uncomfortable. \\\n",
        "with a leg opening the size of my waist and hem line above my ankle, and front pleats to make me fluffy,\\\n",
        "i think you can imagine that it is not a flattering look. In generall, Hate the material, Love the color.'\n",
        "print(ReviewComment)\n",
        "\n",
        "#Check the overall sentiment\n",
        "sid = SentimentIntensityAnalyzer()\n",
        "OverallSen = sid.polarity_scores(ReviewComment)\n",
        "print('OVERALL SENTIMENT SCORE: \\n', OverallSen)"
      ]
    },
    {
      "cell_type": "code",
      "execution_count": null,
      "metadata": {
        "id": "Hcby0wpD_lcD"
      },
      "outputs": [],
      "source": [
        "#Compute Sentiment Score by text trunk\n",
        "from nltk.tokenize import sent_tokenize\n",
        "import nltk\n",
        "nltk.download('punkt')\n",
        "nltk.download('punkt_tab')\n",
        "\n",
        "ReviewComment=ReviewComment.replace(',','.')\n",
        "sents =  sent_tokenize(ReviewComment)\n",
        "scores = []\n",
        "for s in range(len(sents)):\n",
        "       scores.append(sid.polarity_scores(sents[s]))\n",
        "[s for s in scores] #Show sentiment score of individual trunks"
      ]
    },
    {
      "cell_type": "code",
      "execution_count": null,
      "metadata": {
        "id": "6FsD6nkV_lcD"
      },
      "outputs": [],
      "source": [
        "from statistics import mean\n",
        "#Define function to compute sentiment score for aspect\n",
        "def aspect_sentiment(aspect,sents,scores):\n",
        "    AspSen = []\n",
        "    for s in range(len(sents)):\n",
        "        #Check if the aspect is mentioned in the text trunk\n",
        "        Index = sents[s].find(aspect)\n",
        "        if Index > 0:\n",
        "            AspSen.append(scores[s])\n",
        "    Sentiment = [AspSen[x]['compound'] for x in range(len(AspSen))]\n",
        "\n",
        "    #Return average of sentiment scores of aspect\n",
        "    return [round(mean(Sentiment),3)]\n",
        "\n",
        "print('color: ', aspect_sentiment('color',sents,scores))\n",
        "print('material: ', aspect_sentiment('material',sents,scores))\n",
        "print('size: ', aspect_sentiment('size',sents,scores))"
      ]
    },
    {
      "cell_type": "markdown",
      "source": [
        "For the current review text, the sentiment for `color` was positive, while the sentiment for `material` and `size` was negative."
      ],
      "metadata": {
        "id": "lNj-edWsTrqW"
      }
    },
    {
      "cell_type": "markdown",
      "metadata": {
        "id": "cY3FOs41_lcD"
      },
      "source": [
        "<a id = \"cell_Summarization\"></a>\n",
        "###  6. Sentiment Summarization\n",
        "\n",
        "Once the sentiment scores are estimated from each review or sentence, they need to be aggregated with respect aspects to provide a summary of the overall sentiments.\n"
      ]
    },
    {
      "cell_type": "markdown",
      "metadata": {
        "id": "AAlnuMGr_lcE"
      },
      "source": [
        "In this exercie, we will compare the overall positive and negative sentiments of all customers expressed toward \"color\", \"material\", and \"size\" of Knits and Jeans in the clothing store."
      ]
    },
    {
      "cell_type": "code",
      "execution_count": null,
      "metadata": {
        "id": "cEyM9MTN_lcE"
      },
      "outputs": [],
      "source": [
        "#Define a function to compute overall sentiment by aspect\n",
        "def aspect_sentiment(aspect,reviewtext):\n",
        "    SentimentIndex = []\n",
        "\n",
        "    # For each review in the data set\n",
        "    for rev in (reviewtext):\n",
        "        try:\n",
        "            sens =  sent_tokenize(rev)\n",
        "        except:\n",
        "            continue\n",
        "        #Compute sentiment scores by each sentence.\n",
        "        ReviewLevelSentiment = []\n",
        "        for s in range(len(sens)):\n",
        "            IndexAspect = sens[s].find(aspect)\n",
        "            if IndexAspect > 0:\n",
        "                ReviewLevelSentiment.append(sid.polarity_scores(sens[s]))\n",
        "\n",
        "        #Aggregate sentiment scores for each review\n",
        "        try:\n",
        "            Compound = mean([ReviewLevelSentiment[x]['compound'] for x in range(len(ReviewLevelSentiment))])\n",
        "        except:\n",
        "            Compound = 0\n",
        "\n",
        "        # Generate sentiment index based on sentiment score\n",
        "        SentimentIndex.append(Compound)\n",
        "\n",
        "         # Define thresholds\n",
        "        positive_threshold = 0.1\n",
        "        negative_threshold = -0.1\n",
        "\n",
        "        # Initialize counters\n",
        "        positive_count = 0\n",
        "        negative_count = 0\n",
        "\n",
        "        for value in SentimentIndex:\n",
        "            if value > positive_threshold:\n",
        "                positive_count += 1\n",
        "            elif value < negative_threshold:\n",
        "                negative_count += 1\n",
        "        Total_Count = positive_count + negative_count\n",
        "    return [round(positive_count/Total_Count,2), round(negative_count/Total_Count,2)]"
      ]
    },
    {
      "cell_type": "code",
      "execution_count": null,
      "metadata": {
        "id": "E5553jbJ_lcE"
      },
      "outputs": [],
      "source": [
        "#Define Aspects to compute sentiment\n",
        "aspects = ['color','material','size']\n",
        "\n",
        "#Extract Reviews for Jeans only and compute aspect sentiments\n",
        "print('Sentiment scores for Jeans:')\n",
        "JeanReviews = df.loc[df['Class Name'] == 'Jeans']\n",
        "SentimentScoresJeans = []\n",
        "for a in range(len(aspects)):\n",
        "    SentimentScoresJeans.append(aspect_sentiment(aspects[a],JeanReviews['Review Text']))\n",
        "    print(aspects[a])\n",
        "    print(SentimentScoresJeans[a])\n",
        "\n",
        "print('--------------------------------')\n",
        "#Extract Reviews for Knits only and compute aspect sentiments\n",
        "print('Sentiment scores for Knits:')\n",
        "KnitReviews = df.loc[df['Class Name'] == 'Knits']\n",
        "SentimentScoresKnits = []\n",
        "for a in range(len(aspects)):\n",
        "    SentimentScoresKnits.append(aspect_sentiment(aspects[a],KnitReviews['Review Text']))\n",
        "    print(aspects[a])\n",
        "    print(SentimentScoresKnits[a])"
      ]
    },
    {
      "cell_type": "code",
      "execution_count": null,
      "metadata": {
        "id": "C7v8wqog_lcF"
      },
      "outputs": [],
      "source": [
        "import numpy\n",
        "\n",
        "PositiveJean = [SentimentScoresJeans[x][0] for x in range(len(SentimentScoresJeans))]\n",
        "PositiveKnits = [SentimentScoresKnits[x][0] for x in range(len(SentimentScoresKnits))]\n",
        "\n",
        "\n",
        "ind = numpy.arange(len(aspects))  # the x locations for the groups\n",
        "width = 0.27       # the width of the bars\n",
        "\n",
        "#Plot figure for positive reviews\n",
        "figPo = pyplot.figure(figsize=(6, 4))\n",
        "ax = figPo.add_subplot(111)\n",
        "\n",
        "rectsPositiveJean = ax.bar(aspects, PositiveJean, width, color='b')\n",
        "rectsPositiveKnits = ax.bar(ind+width, PositiveKnits, width, color='g')\n",
        "\n",
        "ax.set_ylabel('Proportion')\n",
        "ax.set_xticks(ind+0.5*width)\n",
        "ax.legend( (rectsPositiveJean[0], rectsPositiveKnits[0]), ('Jean','Knits'),loc='lower center' )\n",
        "pyplot.suptitle('Positive Sentiment');"
      ]
    },
    {
      "cell_type": "markdown",
      "source": [
        "The figure show that both product recieved highly positive sentiments, with large proportions. Among them, Jeans recieved slightly more positive sentiments for \"material\" than Knits, but less positve sentiments for \"color\" and \"size\".\n",
        "\n"
      ],
      "metadata": {
        "id": "Ze6tqqO-C8zn"
      }
    },
    {
      "cell_type": "code",
      "source": [
        "import numpy\n",
        "\n",
        "NegativeJean = [SentimentScoresJeans[x][1] for x in range(len(SentimentScoresJeans))]\n",
        "NegativeKnits = [SentimentScoresKnits[x][1] for x in range(len(SentimentScoresKnits))]\n",
        "\n",
        "\n",
        "ind = numpy.arange(len(aspects))  # the x locations for the groups\n",
        "width = 0.27       # the width of the bars\n",
        "\n",
        "#Plot figure for positive reviews\n",
        "figPo = pyplot.figure(figsize=(6, 4))\n",
        "ax = figPo.add_subplot(111)\n",
        "\n",
        "rectsNegativeJean = ax.bar(aspects, NegativeJean, width, color='r')\n",
        "rectsNegativeKnits = ax.bar(ind+width, NegativeKnits, width, color='y')\n",
        "\n",
        "ax.set_ylabel('Proportion')\n",
        "ax.set_xticks(ind+0.5*width)\n",
        "ax.legend( (rectsNegativeJean[0], rectsNegativeKnits[0]), ('Jean','Knits'),loc='upper left' )\n",
        "pyplot.suptitle('Negative Sentiment');"
      ],
      "metadata": {
        "id": "dzZmCaCa9bUs"
      },
      "execution_count": null,
      "outputs": []
    },
    {
      "cell_type": "markdown",
      "metadata": {
        "id": "tMX3JlQk_lcF"
      },
      "source": [
        "The figure show that \"material\" and \"size\" have the higher negative sentiments than color for both products. Knits recieved more negative sentiment for \"material\" while Jean recieved more negative sentiments for \"size\".\n",
        "\n",
        "**Possible Business Implications:**\n",
        "- The clothing business should prioritize enhancing the 'material' and 'size' aspects of both products to enhance customer satisfaction. More attention can be devoted to improving the material quality of Knits, while Jeans should focus on size optimization.\n"
      ]
    },
    {
      "cell_type": "markdown",
      "metadata": {
        "id": "CVW4_O5R_lcF"
      },
      "source": [
        "### References:\n",
        "\n",
        "- Li, S. (2019). A Complete Exploratory Data Analysis and Visualization for Text Data, towardsdatascience.com, https://towardsdatascience.com/a-complete-exploratory-data-analysis-and-visualization-for-text-data-29fb1b96fb6a\n",
        "- Navlani, A. (2019). Text Analytics for Beginners using NLTK, datacamp.com, https://www.datacamp.com/community/tutorials/text-analytics-beginners-nltk\n",
        "- Hunter, J., Dale, D., Firing, E., Droettboom, M. & Matplotlib development team (2012). Pyplot Tutorial, Matplotlib, https://matplotlib.org/3.1.1/tutorials/introductory/pyplot.html\n",
        "- Zoë Wilkinson Saldaña, \"Sentiment Analysis for Exploratory Data Analysis,\" The Programming Historian 7 (2018), https://programminghistorian.org/en/lessons/sentiment-analysis."
      ]
    }
  ],
  "metadata": {
    "colab": {
      "provenance": [],
      "include_colab_link": true
    },
    "kernelspec": {
      "display_name": "Python 3",
      "language": "python",
      "name": "python3"
    },
    "language_info": {
      "codemirror_mode": {
        "name": "ipython",
        "version": 3
      },
      "file_extension": ".py",
      "mimetype": "text/x-python",
      "name": "python",
      "nbconvert_exporter": "python",
      "pygments_lexer": "ipython3",
      "version": "3.8.5"
    }
  },
  "nbformat": 4,
  "nbformat_minor": 0
}